{
 "cells": [
  {
   "cell_type": "code",
   "id": "initial_id",
   "metadata": {
    "collapsed": true,
    "ExecuteTime": {
     "end_time": "2025-07-15T08:52:18.976919Z",
     "start_time": "2025-07-15T08:52:18.900668Z"
    }
   },
   "source": [
    "import numpy as np\n",
    "from numpy.ma.core import reshape\n",
    "\n",
    "arr = np.array([1,2,3,4,5,6,7,8,9,10,11,12])\n",
    "arr\n",
    "\n",
    "\n",
    "\n"
   ],
   "outputs": [
    {
     "data": {
      "text/plain": [
       "array([ 1,  2,  3,  4,  5,  6,  7,  8,  9, 10, 11, 12])"
      ]
     },
     "execution_count": 8,
     "metadata": {},
     "output_type": "execute_result"
    }
   ],
   "execution_count": 8
  },
  {
   "metadata": {
    "ExecuteTime": {
     "end_time": "2025-07-15T08:52:20.960403Z",
     "start_time": "2025-07-15T08:52:20.950720Z"
    }
   },
   "cell_type": "code",
   "source": [
    "reshaped= arr.reshape (3,4)\n",
    "reshaped"
   ],
   "id": "e06ba378dd5e4a70",
   "outputs": [
    {
     "data": {
      "text/plain": [
       "array([[ 1,  2,  3,  4],\n",
       "       [ 5,  6,  7,  8],\n",
       "       [ 9, 10, 11, 12]])"
      ]
     },
     "execution_count": 9,
     "metadata": {},
     "output_type": "execute_result"
    }
   ],
   "execution_count": 9
  },
  {
   "metadata": {
    "ExecuteTime": {
     "end_time": "2025-07-15T08:53:48.596550Z",
     "start_time": "2025-07-15T08:53:48.584Z"
    }
   },
   "cell_type": "code",
   "source": [
    "flattened =reshaped.flatten()\n",
    "flattened"
   ],
   "id": "d703dc12868ed869",
   "outputs": [
    {
     "data": {
      "text/plain": [
       "array([ 1,  2,  3,  4,  5,  6,  7,  8,  9, 10, 11, 12])"
      ]
     },
     "execution_count": 10,
     "metadata": {},
     "output_type": "execute_result"
    }
   ],
   "execution_count": 10
  },
  {
   "metadata": {
    "ExecuteTime": {
     "end_time": "2025-07-15T08:55:12.147485Z",
     "start_time": "2025-07-15T08:55:12.135986Z"
    }
   },
   "cell_type": "code",
   "source": [
    "flattened =reshaped.flatten()\n",
    "flattened[0]=19\n",
    "flattened"
   ],
   "id": "fd71385a481ad93f",
   "outputs": [
    {
     "data": {
      "text/plain": [
       "array([19,  2,  3,  4,  5,  6,  7,  8,  9, 10, 11, 12])"
      ]
     },
     "execution_count": 11,
     "metadata": {},
     "output_type": "execute_result"
    }
   ],
   "execution_count": 11
  },
  {
   "metadata": {
    "ExecuteTime": {
     "end_time": "2025-07-15T08:57:53.398384Z",
     "start_time": "2025-07-15T08:57:53.386705Z"
    }
   },
   "cell_type": "code",
   "source": "reshaped",
   "id": "acdb50e108620f53",
   "outputs": [
    {
     "data": {
      "text/plain": [
       "array([[ 1,  2,  3,  4],\n",
       "       [ 5,  6,  7,  8],\n",
       "       [ 9, 10, 11, 12]])"
      ]
     },
     "execution_count": 12,
     "metadata": {},
     "output_type": "execute_result"
    }
   ],
   "execution_count": 12
  },
  {
   "metadata": {
    "ExecuteTime": {
     "end_time": "2025-07-15T09:03:07.141408Z",
     "start_time": "2025-07-15T09:03:07.129241Z"
    }
   },
   "cell_type": "code",
   "source": [
    "raveled =reshaped.ravel()\n",
    "raveled[1]=30\n",
    "raveled\n"
   ],
   "id": "57ab00a708dd509b",
   "outputs": [
    {
     "data": {
      "text/plain": [
       "array([ 1, 30,  3,  4,  5,  6,  7,  8,  9, 10, 11, 12])"
      ]
     },
     "execution_count": 14,
     "metadata": {},
     "output_type": "execute_result"
    }
   ],
   "execution_count": 14
  },
  {
   "metadata": {
    "ExecuteTime": {
     "end_time": "2025-07-15T09:03:32.356304Z",
     "start_time": "2025-07-15T09:03:32.345690Z"
    }
   },
   "cell_type": "code",
   "source": "reshaped",
   "id": "8b3f4957718cf668",
   "outputs": [
    {
     "data": {
      "text/plain": [
       "array([[ 1, 30,  3,  4],\n",
       "       [ 5,  6,  7,  8],\n",
       "       [ 9, 10, 11, 12]])"
      ]
     },
     "execution_count": 15,
     "metadata": {},
     "output_type": "execute_result"
    }
   ],
   "execution_count": 15
  },
  {
   "metadata": {
    "ExecuteTime": {
     "end_time": "2025-07-15T09:12:09.821819Z",
     "start_time": "2025-07-15T09:12:09.809344Z"
    }
   },
   "cell_type": "code",
   "source": [
    "arr1 =np.array([1,2,3])\n",
    "print(arr1)\n",
    "arr2 = np.array([[2],[4],[6]])\n",
    "print(arr2)"
   ],
   "id": "abbf7d9ccd3954d9",
   "outputs": [
    {
     "name": "stdout",
     "output_type": "stream",
     "text": [
      "[1 2 3]\n",
      "[[2]\n",
      " [4]\n",
      " [6]]\n"
     ]
    }
   ],
   "execution_count": 16
  },
  {
   "metadata": {},
   "cell_type": "code",
   "outputs": [],
   "execution_count": null,
   "source": "",
   "id": "c2d5e4236ae8f094"
  }
 ],
 "metadata": {
  "kernelspec": {
   "display_name": "Python 3",
   "language": "python",
   "name": "python3"
  },
  "language_info": {
   "codemirror_mode": {
    "name": "ipython",
    "version": 2
   },
   "file_extension": ".py",
   "mimetype": "text/x-python",
   "name": "python",
   "nbconvert_exporter": "python",
   "pygments_lexer": "ipython2",
   "version": "2.7.6"
  }
 },
 "nbformat": 4,
 "nbformat_minor": 5
}
