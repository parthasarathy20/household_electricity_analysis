{
 "cells": [
  {
   "cell_type": "code",
   "execution_count": 1,
   "id": "5caf30d2-ec49-44c4-8e37-ce1185751eb8",
   "metadata": {},
   "outputs": [],
   "source": [
    "import numpy as n\n"
   ]
  },
  {
   "cell_type": "code",
   "execution_count": 10,
   "id": "dc182c0d-70ad-4567-bc49-e874c469add4",
   "metadata": {},
   "outputs": [
    {
     "name": "stdin",
     "output_type": "stream",
     "text": [
      "Enter number of test cases:  2\n",
      "Enter the student IDs separated by space:  33546689709\n"
     ]
    },
    {
     "name": "stdout",
     "output_type": "stream",
     "text": [
      "[False]\n"
     ]
    },
    {
     "name": "stdin",
     "output_type": "stream",
     "text": [
      "Enter the student IDs separated by space:  5 7 9 6  5 4 5\n"
     ]
    },
    {
     "name": "stdout",
     "output_type": "stream",
     "text": [
      "[False False False False  True False  True]\n"
     ]
    }
   ],
   "source": [
    "import numpy as np  # Importing numpy\n",
    "\n",
    "def mark_duplicates(ids):\n",
    "    seen = set()\n",
    "    result = []\n",
    "    for id in ids:\n",
    "        if id in seen:\n",
    "            result.append(True)\n",
    "        else:\n",
    "            seen.add(id)\n",
    "            result.append(False)\n",
    "    return np.array(result)\n",
    "t = int(input(\"Enter number of test cases: \"))\n",
    "\n",
    "\n",
    "for _ in range(t):\n",
    "    input_str = input(\"Enter the student IDs separated by space: \")\n",
    "    ids = np.array(list(map(int, input_str.strip().split())))\n",
    "    \n",
    "    print(mark_duplicates(ids))\n",
    "\n"
   ]
  },
  {
   "cell_type": "code",
   "execution_count": null,
   "id": "8ecd7741-1474-4110-9d1f-4c65e6a82028",
   "metadata": {},
   "outputs": [],
   "source": []
  }
 ],
 "metadata": {
  "kernelspec": {
   "display_name": "Python 3 (ipykernel)",
   "language": "python",
   "name": "python3"
  },
  "language_info": {
   "codemirror_mode": {
    "name": "ipython",
    "version": 3
   },
   "file_extension": ".py",
   "mimetype": "text/x-python",
   "name": "python",
   "nbconvert_exporter": "python",
   "pygments_lexer": "ipython3",
   "version": "3.13.5"
  }
 },
 "nbformat": 4,
 "nbformat_minor": 5
}
